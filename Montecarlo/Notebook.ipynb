{
 "cells": [
  {
   "cell_type": "markdown",
   "metadata": {},
   "source": [
    "# Imports"
   ]
  },
  {
   "cell_type": "code",
   "execution_count": 112,
   "metadata": {
    "pycharm": {
     "name": "#%%\n"
    }
   },
   "outputs": [],
   "source": [
    "%matplotlib inline"
   ]
  },
  {
   "cell_type": "code",
   "execution_count": 113,
   "metadata": {
    "pycharm": {
     "name": "#%%\n"
    }
   },
   "outputs": [],
   "source": [
    "import random\n",
    "from shape import Shape\n",
    "from shape import Rectangle\n",
    "from shape import Circle\n",
    "from point import Point\n",
    "from montecarlo import Montecarlo\n",
    "from ipywidgets import interact, interactive, fixed, interact_manual\n",
    "import ipywidgets as widgets\n",
    "import matplotlib\n",
    "import matplotlib.pyplot as plt\n",
    "import numpy as np\n",
    "import math"
   ]
  },
  {
   "cell_type": "markdown",
   "metadata": {},
   "source": [
    "# Code"
   ]
  },
  {
   "cell_type": "code",
   "execution_count": 4,
   "metadata": {
    "pycharm": {
     "name": "#%%\n"
    }
   },
   "outputs": [],
   "source": [
    "nbr_points = widgets.IntSlider(description=\"number of points\", min = 0, max = 1000000, step = 1000, orientation=\"horizontal\", continuous_update=False)"
   ]
  },
  {
   "cell_type": "code",
   "execution_count": 10,
   "metadata": {
    "pycharm": {
     "name": "#%%\n"
    }
   },
   "outputs": [
    {
     "name": "stdout",
     "output_type": "stream",
     "text": [
      "Je suis un cercle de rayon 1\n"
     ]
    }
   ],
   "source": [
    "circle = Circle(1)\n",
    "print(circle)"
   ]
  },
  {
   "cell_type": "code",
   "execution_count": 71,
   "metadata": {
    "pycharm": {
     "name": "#%%\n"
    }
   },
   "outputs": [],
   "source": [
    "def plot_circle(r):\n",
    "    plt.figure(1)\n",
    "    ax = plt.gca()\n",
    "    ax.cla()\n",
    "    ax.set_xlim((-10, 10))\n",
    "    ax.set_ylim((-10, 10))\n",
    "    circle = plt.Circle((0,0), r, fill = False)\n",
    "    circle2 = plt.Circle((0,0), r-1, fill = False)\n",
    "    ax.add_patch(circle)\n",
    "    ax.add_patch(circle2)\n",
    "    plt.show()"
   ]
  },
  {
   "cell_type": "code",
   "execution_count": 72,
   "metadata": {
    "pycharm": {
     "name": "#%%\n"
    }
   },
   "outputs": [
    {
     "data": {
      "application/vnd.jupyter.widget-view+json": {
       "model_id": "0c92f589922e412da8482ccdc07d55db",
       "version_major": 2,
       "version_minor": 0
      },
      "text/plain": [
       "interactive(children=(IntSlider(value=5, description='r', max=10, min=1), Output()), _dom_classes=('widget-int…"
      ]
     },
     "metadata": {},
     "output_type": "display_data"
    }
   ],
   "source": [
    "interactive_plot = interactive(plot_circle, r=(1,10,1))\n",
    "output = interactive_plot.children[-1]\n",
    "interactive_plot"
   ]
  },
  {
   "cell_type": "code",
   "execution_count": 116,
   "metadata": {
    "pycharm": {
     "name": "#%%\n"
    }
   },
   "outputs": [],
   "source": [
    "def plot_montecarlo_circle(r,nbr_points):\n",
    "    montecarlo = Montecarlo()\n",
    "    radius = r\n",
    "    circle = Circle(radius)\n",
    "    print(\"area with normal calcul :\", radius**2 * math.pi)\n",
    "    print(\"with\", nbr_points, \"points in Montecarlo :\")\n",
    "    print(montecarlo.calcul_area(circle, nbr_points))\n",
    "    \n",
    "    plt.figure(2)\n",
    "    ax = plt.gca()\n",
    "    ax.cla()\n",
    "    ax.set_xlim((-radius*2, radius*2))\n",
    "    ax.set_ylim((-radius*2, radius*2))\n",
    "    \n",
    "    circle = plt.Circle((0,0), radius, fill = False)\n",
    "    \n",
    "    ax.add_patch(circle)\n",
    "    \n",
    "    for point in montecarlo._points :\n",
    "        pt = plt.Circle((point._x, point._y), radius/1000)\n",
    "        ax.add_patch(pt)\n",
    "    \n",
    "    plt.show()"
   ]
  },
  {
   "cell_type": "code",
   "execution_count": 101,
   "metadata": {
    "pycharm": {
     "name": "#%%\n"
    }
   },
   "outputs": [
    {
     "data": {
      "application/vnd.jupyter.widget-view+json": {
       "model_id": "7fb233d387aa471283dc231486f48ed8",
       "version_major": 2,
       "version_minor": 0
      },
      "text/plain": [
       "interactive(children=(IntSlider(value=5, description='r', max=10, min=1), IntSlider(value=50000, description='…"
      ]
     },
     "metadata": {},
     "output_type": "display_data"
    }
   ],
   "source": [
    "interactive_montecarlo_circle = interactive(plot_montecarlo_circle, r =(1,10,1),nbr_points = (1000,100000,1000))\n",
    "interactive_montecarlo_circle"
   ]
  },
  {
   "cell_type": "code",
   "execution_count": 117,
   "metadata": {
    "pycharm": {
     "name": "#%%\n"
    }
   },
   "outputs": [
    {
     "data": {
      "application/vnd.jupyter.widget-view+json": {
       "model_id": "ab6a08605d084f34ad76d150a9c01cf0",
       "version_major": 2,
       "version_minor": 0
      },
      "text/plain": [
       "interactive(children=(IntSlider(value=5, description='r', max=10, min=1), IntSlider(value=50000, description='…"
      ]
     },
     "metadata": {},
     "output_type": "display_data"
    },
    {
     "data": {
      "text/plain": [
       "<function __main__.plot_montecarlo_circle(r, nbr_points)>"
      ]
     },
     "execution_count": 117,
     "metadata": {},
     "output_type": "execute_result"
    }
   ],
   "source": [
    "interactive_montecarlo_circle = interact_manual(plot_montecarlo_circle, r =(1,10,1),nbr_points = (1000,100000,1000))\n",
    "interactive_montecarlo_circle"
   ]
  },
  {
   "cell_type": "code",
   "execution_count": null,
   "metadata": {},
   "outputs": [],
   "source": []
  }
 ],
 "metadata": {
  "kernelspec": {
   "display_name": "Python 3 (ipykernel)",
   "language": "python",
   "name": "python3"
  },
  "language_info": {
   "codemirror_mode": {
    "name": "ipython",
    "version": 3
   },
   "file_extension": ".py",
   "mimetype": "text/x-python",
   "name": "python",
   "nbconvert_exporter": "python",
   "pygments_lexer": "ipython3",
   "version": "3.9.7"
  }
 },
 "nbformat": 4,
 "nbformat_minor": 1
}